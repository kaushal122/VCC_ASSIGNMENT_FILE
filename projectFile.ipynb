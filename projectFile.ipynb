{
  "nbformat": 4,
  "nbformat_minor": 0,
  "metadata": {
    "colab": {
      "name": "projectFile.ipynb",
      "provenance": [],
      "collapsed_sections": []
    },
    "kernelspec": {
      "name": "python3",
      "display_name": "Python 3"
    },
    "language_info": {
      "name": "python"
    }
  },
  "cells": [
    {
      "cell_type": "markdown",
      "source": [
        "## Towards Adaptive Joint Node and Link Mapping Algorithms for Embedding Virtual Networks: A Conciliation Strategy\n",
        "\n"
      ],
      "metadata": {
        "id": "g0HREUymH0Wx"
      }
    },
    {
      "cell_type": "markdown",
      "source": [
        "##  Substrate Graph"
      ],
      "metadata": {
        "id": "nOwm9AV9Rh1Y"
      }
    },
    {
      "cell_type": "code",
      "execution_count": 218,
      "metadata": {
        "colab": {
          "base_uri": "https://localhost:8080/",
          "height": 248
        },
        "id": "IkwGOuf1Mgmy",
        "outputId": "fcb69514-0d92-4e35-e67d-b571f78b7e8f"
      },
      "outputs": [
        {
          "output_type": "display_data",
          "data": {
            "text/plain": [
              "<Figure size 432x288 with 1 Axes>"
            ],
            "image/png": "[encoded data removed]"
          },
          "metadata": {}
        }
      ],
      "source": [
        "import networkx as nx\n",
        "import random\n",
        "import sys\n",
        "G=nx.Graph()\n",
        "G.add_node(1,weight=15)\n",
        "G.add_node(2,weight=16)\n",
        "G.add_node(3,weight=17)\n",
        "G.add_node(4,weight=18)\n",
        "G.add_node(5,weight=19)\n",
        "G.add_node(6,weight=20)\n",
        "G.add_node(7,weight=10)\n",
        "G.add_node(8,weight=12)\n",
        "\n",
        "\n",
        "G.add_edge(1,2,weight=15)\n",
        "G.add_edge(1,3,weight=12)\n",
        "G.add_edge(1,4,weight=14)\n",
        "G.add_edge(1,7,weight=13)\n",
        "G.add_edge(3,5,weight=16)\n",
        "G.add_edge(6,5,weight=15)\n",
        "G.add_edge(2,6,weight=15)\n",
        "G.add_edge(2,1,weight=15)\n",
        "G.add_edge(3,1,weight=12)\n",
        "G.add_edge(4,1,weight=14)\n",
        "G.add_edge(5,3,weight=16)\n",
        "G.add_edge(5,6,weight=15)\n",
        "G.add_edge(2,6,weight=15)\n",
        "G.add_edge(1,6,weight=15)\n",
        "G.add_edge(6,1,weight=15)\n",
        "G.add_edge(6,8,weight=10)\n",
        "G.add_edge(7,1,weight=13)\n",
        "G.add_edge(7,8,weight=12)\n",
        "G.add_edge(8,7,weight=12)\n",
        "G.add_edge(8,6,weight=10)\n",
        "\n",
        "nx.draw_networkx(G,with_labels=True,node_size=350)"
      ]
    },
    {
      "cell_type": "markdown",
      "source": [
        "## Function for k- shortest paths\n"
      ],
      "metadata": {
        "id": "hXAMEV38RtxS"
      }
    },
    {
      "cell_type": "code",
      "source": [
        "#using k-shortest paths k paths  based on hop counts.\n",
        "def path_pool(source,target):\n",
        "    pathList=[]\n",
        "    # for i in range(G.number_of_nodes()):\n",
        "    #   for j in range(G.number_of_nodes()):\n",
        "    #     if i!=j:\n",
        "         # X = nx.shortest_simple_paths(G, i+1,j+1)\n",
        "    X = nx.shortest_simple_paths(G, source,target)\n",
        "    k = 3\n",
        "    for counter, path in enumerate(X):\n",
        "            #print(path)\n",
        "            pathList.append(path)\n",
        "            if counter == k-1:\n",
        "                break\n",
        "    return pathList\n",
        "#print(pathList)\n",
        "\n"
      ],
      "metadata": {
        "id": "ZOfSmXTjjpGC"
      },
      "execution_count": 219,
      "outputs": []
    },
    {
      "cell_type": "markdown",
      "source": [
        "# Virtual Network Request"
      ],
      "metadata": {
        "id": "0uRxpfuaRTUC"
      }
    },
    {
      "cell_type": "code",
      "source": [
        "#virtual network request graph\n",
        "G1=nx.Graph()\n",
        "G1.add_node('a',weight=6)\n",
        "G1.add_node('b',weight=6)\n",
        "G1.add_node('c',weight=7)\n",
        "\n",
        "G1.add_edge('a','b',weight=4)\n",
        "G1.add_edge('b','c',weight=3)\n",
        "G1.add_edge('c','a',weight=2)\n",
        "\n",
        "nx.draw_networkx(G1,with_labels=True,node_size=350)\n"
      ],
      "metadata": {
        "colab": {
          "base_uri": "https://localhost:8080/",
          "height": 248
        },
        "id": "OHRgY2ZaSLl0",
        "outputId": "75898927-c3a6-4168-fbbc-dd3762f5a85a"
      },
      "execution_count": 220,
      "outputs": [
        {
          "output_type": "display_data",
          "data": {
            "text/plain": [
              "<Figure size 432x288 with 1 Axes>"
            ],
            "image/png": "[encoded data removed]"
          },
          "metadata": {}
        }
      ]
    },
    {
      "cell_type": "markdown",
      "source": [
        "**To get minimum requirement by a virtual node**"
      ],
      "metadata": {
        "id": "ePigQJ0YSUiv"
      }
    },
    {
      "cell_type": "code",
      "source": [
        "min=sys.maxsize\n",
        "listVNodes=[]\n",
        "dicVNodes={}\n",
        "#print(type(listVNodesWeights))\n",
        "for w in G1.nodes(data=\"weight\"):\n",
        "  dicVNodes[w[0]]=w[1]\n",
        "  listVNodes.append(w)\n",
        "  if w[1]<min:\n",
        "    min=w[1]\n",
        "# print(listVNodes)\n",
        "print(\"Nodes and their weights in virtual network request: \",dicVNodes)\n",
        "print(\"Minimum requirement by a node in ith virtual network= \", min)"
      ],
      "metadata": {
        "colab": {
          "base_uri": "https://localhost:8080/"
        },
        "id": "IBAxunRsX7iZ",
        "outputId": "3b8dcc24-7c44-40e7-a63b-3c76f75a6b58"
      },
      "execution_count": 221,
      "outputs": [
        {
          "output_type": "stream",
          "name": "stdout",
          "text": [
            "Nodes and their weights in virtual network request:  {'a': 6, 'b': 6, 'c': 7}\n",
            "Minimum requirement by a node in ith virtual network=  6\n"
          ]
        }
      ]
    },
    {
      "cell_type": "code",
      "source": [
        "listSNodes=[]\n",
        "dicSNodes={}\n",
        "mapped={}\n"
      ],
      "metadata": {
        "id": "1FyLORyWPsnu"
      },
      "execution_count": 222,
      "outputs": []
    },
    {
      "cell_type": "markdown",
      "source": [
        "#  Link Mapping"
      ],
      "metadata": {
        "id": "pBbFVwOkRIHi"
      }
    },
    {
      "cell_type": "code",
      "source": [
        "#edgeMap__ = {}\n",
        "def linkMapping():\n",
        "  flag1=1\n",
        "  edgeMap = {}\n",
        "  global edgeMap__\n",
        "  for u,v in G1.edges: \n",
        "    print()\n",
        "    print(\"Edge: \", (u, v))\n",
        "    print(\"----------------\")\n",
        "    s_u = mapped[str(u)] \n",
        "    s_v = mapped[str(v)] \n",
        "    all_path_substrate = path_pool(s_u, s_v)\n",
        "    # print(all_path_substrate)\n",
        "    demand = G1.edges[(str(u), str(v))]['weight']\n",
        "    # print(\"$$\",demand)\n",
        "    #valid_path = getValidPath(all_path_substrate, demand)\n",
        "    r=random.randint(0,len(all_path_substrate)-1)\n",
        "    temp_path=all_path_substrate[r]\n",
        "    # print(temp_path)\n",
        "    for i in range (len(temp_path)-1):\n",
        "      # print(temp_path[i],\" \",temp_path[i+1])\n",
        "      #print(G[temp_path[i]][temp_path[i+1]][\"weight\"])\n",
        "      min_cap=G.edges[temp_path[i], temp_path[i+1]]['weight']\n",
        "      # print(min_cap)\n",
        "      if(demand>min_cap):\n",
        "        print(\"demand=\",demand,\"is greater than capacity where nodes of edge =\",temp_path[i],\"<=>\",temp_path[i+1],\"weight=\",G.edges[temp_path[i], temp_path[i+1]]['weight'])\n",
        "        print(\"Therefore link mapping is not feasible\\n\")\n",
        "        flag1=0\n",
        "    if flag1==1:\n",
        "      print(temp_path)\n",
        "      edgeMap[(u, v)] = temp_path\n",
        "      # edgeMap[(v, u)] = temp_path\n",
        "      for i in range (len(temp_path)-1):\n",
        "        # print(\"*\",G.edges[temp_path[i], temp_path[i+1]]['weight'])\n",
        "        G.edges[temp_path[i], temp_path[i+1]]['weight']-=demand\n",
        "        \n",
        "        # G.edges[(temp_path[i], temp_path[i+1])]['weight']\n",
        "        # print(G.edges[temp_path[i], temp_path[i+1]]['weight'])\n",
        "    else:\n",
        "      edgeMap[(u, v)] = []\n",
        "      # edgeMap[(v, u)] = []\n",
        "  #edgeMap__ = edgeMap\n",
        "  print(\"\\n Mapping of links after randomly selected path from k-shortest paths \\n\",edgeMap)\n",
        "\n",
        "\n"
      ],
      "metadata": {
        "id": "h66gSV3_ort7"
      },
      "execution_count": 223,
      "outputs": []
    },
    {
      "cell_type": "markdown",
      "source": [
        "# Virtual Network Embedding\n"
      ],
      "metadata": {
        "id": "OMqPK1Z1HgLm"
      }
    },
    {
      "cell_type": "code",
      "source": [
        "def virtualEmbedding():\n",
        "  #population p=0\n",
        "  p=0\n",
        "\n",
        "  #chromosomes M let say equals to 1 that is M=3\n",
        "  M=3\n",
        "\n",
        "  #N=number of nodes in virtual network request\n",
        "  N=len(listVNodes)\n",
        "\n",
        "  #Q=number of trials; let say its 2\n",
        "  Q=2\n",
        "\n",
        "  #L=number of links in virtual network request\n",
        "  L=G1.number_of_edges()\n",
        "\n",
        "  visitedSNode=dict.fromkeys(range(len(listSNodes)),0)\n",
        "  vistedVNode=dict.fromkeys(range(N),0)\n",
        "  count=0\n",
        "  flag=0\n",
        "  for m in range(M):\n",
        "    print(\"\\n Making Chromosome:\",m)\n",
        "    print(\"\\n\")\n",
        "    for n in range(N):\n",
        "      for q in range(Q):\n",
        "        #r=random.randint(0,len(listSNodes)-1)\n",
        "        r=random.randint(0,len(listSNodes)-1)\n",
        "        if visitedSNode[r]!=1 and listSNodes[r][1]>=listVNodes[n][1]:\n",
        "          visitedSNode[r]=1\n",
        "          vistedVNode[n]=1\n",
        "          # print(\"$\",listSNodes[n][1])\n",
        "          # print(\"#\",listSNodes[n][0])\n",
        "          # print(\"*\",listSNodes[r][1])\n",
        "          # print(\"@\",listSNodes[r][0])\n",
        "          t1=listSNodes[r][1]\n",
        "          t2=listVNodes[n][1]\n",
        "          #print(\"t1\",t1)\n",
        "          #print(\"t2\",t2)\n",
        "          t=t1-t2\n",
        "          #print(t)\n",
        "          dicSNodes[listSNodes[r][0]]=t\n",
        "          mapped[listVNodes[n][0]]=listSNodes[r][0]\n",
        "        for i in range(N):\n",
        "          if vistedVNode[i]==1:\n",
        "            count=count+1\n",
        "        #print(\"#\",count)\n",
        "        if(count==N):\n",
        "          flag=1\n",
        "          break\n",
        "        else:\n",
        "          count=0   \n",
        "    if flag==1:\n",
        "      #link Mapping\n",
        "      #print(\"link mapping\")\n",
        "      print(\"\\n Mapped nodes :\",mapped)\n",
        "      linkMapping()\n",
        "    else:\n",
        "      print(\"Node mapping is Not feasible you should run again as it is selecting under randomization\")     \n"
      ],
      "metadata": {
        "id": "PvGw0J6LHwzc"
      },
      "execution_count": 224,
      "outputs": []
    },
    {
      "cell_type": "markdown",
      "source": [
        "**Continuation of Algorithm**"
      ],
      "metadata": {
        "id": "f0FUe0X5TM4q"
      }
    },
    {
      "cell_type": "code",
      "source": [
        "\n",
        "for w1 in G.nodes(data=\"weight\"):\n",
        "  \n",
        "  if w1[1]>=min:\n",
        "    dicSNodes[w1[0]]=w1[1]\n",
        "    listSNodes.append(w1)\n",
        "print(\"Substrate Network after removing node having lesser capacity than minimum requirement of virtual network: \\n\",listSNodes)\n",
        "if len(listSNodes)>=len(listVNodes):\n",
        "  virtualEmbedding()\n",
        "else:\n",
        "  print(\"Reject the Request\")\n",
        "\n",
        "#print(\"dicSNodes= \",dicSNodes)"
      ],
      "metadata": {
        "colab": {
          "base_uri": "https://localhost:8080/"
        },
        "id": "gXo_7X1_fHkC",
        "outputId": "1e412ec6-88da-4aec-b662-501b1a53fbcf"
      },
      "execution_count": 225,
      "outputs": [
        {
          "output_type": "stream",
          "name": "stdout",
          "text": [
            "Substrate Network after removing node having lesser capacity than minimum requirement of virtual network: \n",
            " [(1, 15), (2, 16), (3, 17), (4, 18), (5, 19), (6, 20), (7, 10), (8, 12)]\n",
            "\n",
            " Making Chromosome: 0\n",
            "\n",
            "\n",
            "\n",
            " Mapped nodes : {'a': 5, 'b': 6, 'c': 1}\n",
            "\n",
            "Edge:  ('a', 'b')\n",
            "----------------\n",
            "[5, 3, 1, 6]\n",
            "\n",
            "Edge:  ('a', 'c')\n",
            "----------------\n",
            "[5, 6, 1]\n",
            "\n",
            "Edge:  ('b', 'c')\n",
            "----------------\n",
            "[6, 2, 1]\n",
            "\n",
            " Mapping of links after randomly selected path from k-shortest paths \n",
            " {('a', 'b'): [5, 3, 1, 6], ('a', 'c'): [5, 6, 1], ('b', 'c'): [6, 2, 1]}\n",
            "\n",
            " Making Chromosome: 1\n",
            "\n",
            "\n",
            "\n",
            " Mapped nodes : {'a': 5, 'b': 4, 'c': 1}\n",
            "\n",
            "Edge:  ('a', 'b')\n",
            "----------------\n",
            "[5, 6, 2, 1, 4]\n",
            "\n",
            "Edge:  ('a', 'c')\n",
            "----------------\n",
            "[5, 6, 1]\n",
            "\n",
            "Edge:  ('b', 'c')\n",
            "----------------\n",
            "[4, 1]\n",
            "\n",
            " Mapping of links after randomly selected path from k-shortest paths \n",
            " {('a', 'b'): [5, 6, 2, 1, 4], ('a', 'c'): [5, 6, 1], ('b', 'c'): [4, 1]}\n",
            "\n",
            " Making Chromosome: 2\n",
            "\n",
            "\n",
            "\n",
            " Mapped nodes : {'a': 5, 'b': 4, 'c': 2}\n",
            "\n",
            "Edge:  ('a', 'b')\n",
            "----------------\n",
            "[5, 6, 2, 1, 4]\n",
            "\n",
            "Edge:  ('a', 'c')\n",
            "----------------\n",
            "[5, 3, 1, 2]\n",
            "\n",
            "Edge:  ('b', 'c')\n",
            "----------------\n",
            "[4, 1, 3, 5, 6, 2]\n",
            "\n",
            " Mapping of links after randomly selected path from k-shortest paths \n",
            " {('a', 'b'): [5, 6, 2, 1, 4], ('a', 'c'): [5, 3, 1, 2], ('b', 'c'): [4, 1, 3, 5, 6, 2]}\n"
          ]
        }
      ]
    }
  ]
}